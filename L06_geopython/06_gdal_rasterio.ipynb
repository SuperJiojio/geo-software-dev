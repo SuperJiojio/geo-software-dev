{
 "cells": [
  {
   "cell_type": "code",
   "execution_count": null,
   "id": "0275c563-cef0-4ebc-9e0a-506bb2cedf7d",
   "metadata": {},
   "outputs": [],
   "source": [
    "# Clone this repo somewhere: https://github.com/mommermi/geotiff_sample"
   ]
  },
  {
   "cell_type": "markdown",
   "id": "0798932a",
   "metadata": {},
   "source": [
    "Find out where you are."
   ]
  },
  {
   "cell_type": "code",
   "execution_count": null,
   "id": "342fdb32",
   "metadata": {},
   "outputs": [],
   "source": [
    "!pwd"
   ]
  },
  {
   "cell_type": "markdown",
   "id": "dae1d84e",
   "metadata": {},
   "source": [
    "As talked about last week, you can also do the following:"
   ]
  },
  {
   "cell_type": "code",
   "execution_count": null,
   "id": "cf60d9b3",
   "metadata": {},
   "outputs": [],
   "source": [
    "import os\n",
    "where_i_am = os.getcwd()"
   ]
  },
  {
   "cell_type": "markdown",
   "id": "089a4e9c",
   "metadata": {},
   "source": [
    "Create a string that contains the path to the sample.tif"
   ]
  },
  {
   "cell_type": "code",
   "execution_count": null,
   "id": "45e09cae",
   "metadata": {},
   "outputs": [],
   "source": [
    "import os\n",
    "# Change these strings to fit where you know the file is!\n",
    "where_the_geotiff_is = os.path.join(where_i_am, \"repos\", \"geotiff_sample\", \"sample.tif\")\n",
    "print(where_the_geotiff_is)"
   ]
  },
  {
   "cell_type": "markdown",
   "id": "b683368a",
   "metadata": {},
   "source": [
    "Check if it is a file"
   ]
  },
  {
   "cell_type": "code",
   "execution_count": null,
   "id": "deb8b3b4",
   "metadata": {},
   "outputs": [],
   "source": [
    "os.path.isfile(where_the_geotiff_is)"
   ]
  },
  {
   "cell_type": "markdown",
   "id": "533b5c78",
   "metadata": {},
   "source": [
    "Now, let's have a look at gdal.\n",
    "\n",
    "See here for more info: https://gdal.org/api/index.html#python-api\n",
    "\n",
    "And here for an applied overview: http://slides.hannahaugustin.at/maptime/GDAL_intro/"
   ]
  },
  {
   "cell_type": "code",
   "execution_count": null,
   "id": "361600a0",
   "metadata": {},
   "outputs": [],
   "source": [
    "import sys\n",
    "from osgeo import gdal"
   ]
  },
  {
   "cell_type": "code",
   "execution_count": null,
   "id": "72a23007",
   "metadata": {},
   "outputs": [],
   "source": [
    "# Check version of python:\n",
    "print(sys.version)\n",
    "\n",
    "# We can check which version we're running by printing the \"__version__\" variable\n",
    "print(\"GDAL's version is: \" + gdal.__version__)\n",
    "\n",
    "# This shows where the version of GDAL is located (in this case, in a conda environment)\n",
    "print(gdal)\n",
    "\n",
    "# This allows GDAL to throw Python Exceptions\n",
    "gdal.UseExceptions()"
   ]
  },
  {
   "cell_type": "code",
   "execution_count": null,
   "id": "4bba447f",
   "metadata": {},
   "outputs": [],
   "source": [
    "info_options = gdal.InfoOptions(computeMinMax=True, stats=True)\n",
    "\n",
    "print(gdal.Info(where_the_geotiff_is, options=info_options))"
   ]
  },
  {
   "cell_type": "code",
   "execution_count": null,
   "id": "89634a9a",
   "metadata": {},
   "outputs": [],
   "source": [
    "# Open the file as a GDAL Dataset object.\n",
    "in_ds = gdal.Open(where_the_geotiff_is, gdal.GA_ReadOnly)\n",
    "print(in_ds)\n",
    "\n",
    "# Close GDAL Dataset object.\n",
    "in_ds = None"
   ]
  },
  {
   "cell_type": "code",
   "execution_count": null,
   "id": "2d108c49",
   "metadata": {},
   "outputs": [],
   "source": [
    "in_ds = gdal.Open(where_the_geotiff_is, gdal.GA_ReadOnly)\n",
    "\n",
    "# Find the number of bands in the dataset object.\n",
    "print(\"[ NUMBER OF BANDS ] = \", in_ds.RasterCount)\n",
    "\n",
    "# Create a GDAL raster band object from the only band in the dataset object.\n",
    "in_band = in_ds.GetRasterBand(1)\n",
    "\n",
    "print(\"[ BAND DATA TYPE ] = \", gdal.GetDataTypeName(in_band.DataType))\n",
    "print(\"[ NO DATA VALUE ] = \", in_band.GetNoDataValue())\n",
    "\n",
    "# Compute statistics if needed.\n",
    "if in_band.GetMinimum() is None or in_band.GetMaximum()is None:\n",
    "    in_band.ComputeStatistics(0)\n",
    "    print(\"Statistics computed.\")\n",
    "\n",
    "print(\"[ OVERALL STATS ] = \", in_band.GetMetadata())\n",
    "\n",
    "print(\"[ MIN ] = \", in_band.GetMinimum())\n",
    "print(\"[ MAX ] = \", in_band.GetMaximum())\n",
    "print(\"[ SCALE ] = \", in_band.GetScale())\n",
    "\n",
    "# Close everything.\n",
    "in_ds = None\n",
    "in_band = None"
   ]
  },
  {
   "cell_type": "markdown",
   "id": "5131b51f",
   "metadata": {},
   "source": [
    "Now, let's have a look at a specific image using rasterio. Rasterio is essentially what is called a wrapper for GDAL. This basically means that one if its main goals is to simplify using GDAL. See more on the philosophy here: https://rasterio.readthedocs.io/en/latest/intro.html\n",
    "\n",
    "First, let's open the file using rasterio.open() (See https://rasterio.readthedocs.io/en/latest/api/rasterio.html#rasterio.open)\n",
    "\n",
    "By default, GDAL drivers are tested sequentially until one works. You can simplify this by specifying a driver, if you like. Drivers can be found here: https://gdal.org/drivers/raster/index.html"
   ]
  },
  {
   "cell_type": "code",
   "execution_count": null,
   "id": "dbb82145",
   "metadata": {},
   "outputs": [],
   "source": [
    "# Some of the next few cells are taken from this tutorial: https://medium.com/@mommermiscience/dealing-with-geospatial-raster-data-in-python-with-rasterio-775e5ba0c9f5\n",
    "# and also from this one:\n",
    "# First import the package.\n",
    "import rasterio"
   ]
  },
  {
   "cell_type": "code",
   "execution_count": null,
   "id": "bd0fcdb1",
   "metadata": {},
   "outputs": [],
   "source": [
    "# We can check which version we're running by printing the \"__version__\" variable\n",
    "print(\"rasterio's version is: \" + rasterio.__version__)\n",
    "print(rasterio)"
   ]
  },
  {
   "cell_type": "markdown",
   "id": "610b9683",
   "metadata": {},
   "source": [
    "First, try to open the file using the wrong driver to see what happens:"
   ]
  },
  {
   "cell_type": "code",
   "execution_count": null,
   "id": "5d2d66e3",
   "metadata": {
    "scrolled": true
   },
   "outputs": [],
   "source": [
    "tif_dataset = rasterio.open(where_the_geotiff_is, driver=\"BAG\")"
   ]
  },
  {
   "cell_type": "markdown",
   "id": "8f2ec2b1",
   "metadata": {},
   "source": [
    "(Note, generally it is best practice in scripts to open files using \"with\" so that you don't have to worry about explicitly closing the files... For examples, see the rasterio.open() dics here: https://rasterio.readthedocs.io/en/latest/api/rasterio.html#rasterio.open)"
   ]
  },
  {
   "cell_type": "code",
   "execution_count": null,
   "id": "1550db45",
   "metadata": {},
   "outputs": [],
   "source": [
    "tif_dataset = rasterio.open(where_the_geotiff_is, driver=\"GTiff\")"
   ]
  },
  {
   "cell_type": "markdown",
   "id": "b774b1f9",
   "metadata": {},
   "source": [
    "Let's investigate the python object we just created."
   ]
  },
  {
   "cell_type": "code",
   "execution_count": null,
   "id": "1f712209",
   "metadata": {},
   "outputs": [],
   "source": [
    "print(tif_dataset)"
   ]
  },
  {
   "cell_type": "markdown",
   "id": "5e5f3d6d",
   "metadata": {},
   "source": [
    "Now, let's have a look at our opened object. Let's check the Coordinate Reference System:"
   ]
  },
  {
   "cell_type": "code",
   "execution_count": null,
   "id": "da05d4fc",
   "metadata": {},
   "outputs": [],
   "source": [
    "tif_dataset.crs"
   ]
  },
  {
   "cell_type": "markdown",
   "id": "ce8f30fe",
   "metadata": {},
   "source": [
    "We have been given a rasterio.crs.CRS() object that includes an EPSG code. These can be explored at https://epsg.io, like here https://epsg.io/32631"
   ]
  },
  {
   "cell_type": "code",
   "execution_count": null,
   "id": "7ab92de5",
   "metadata": {},
   "outputs": [],
   "source": [
    "print(tif_dataset.crs)"
   ]
  },
  {
   "cell_type": "markdown",
   "id": "4f9e4037",
   "metadata": {},
   "source": [
    "Practice creating CRS objects using rasterio in a few different ways. See here for more info: https://rasterio.readthedocs.io/en/latest/api/rasterio.crs.html"
   ]
  },
  {
   "cell_type": "code",
   "execution_count": null,
   "id": "e30ba73c",
   "metadata": {},
   "outputs": [],
   "source": [
    "# The from_string method takes a variety of input.\n",
    "\n",
    "crs = rasterio.crs.CRS.from_string(\"EPSG:3035\")\n",
    "print(crs)"
   ]
  },
  {
   "cell_type": "code",
   "execution_count": null,
   "id": "b47bbb0f",
   "metadata": {},
   "outputs": [],
   "source": [
    "# EPSG codes may be used with the from_epsg method.\n",
    "crs = rasterio.crs.CRS.from_epsg(3035)\n",
    "print(crs)"
   ]
  },
  {
   "cell_type": "code",
   "execution_count": null,
   "id": "3332b7ff",
   "metadata": {},
   "outputs": [],
   "source": [
    "# The from_proj4 method takes PROJ strings as an argument\n",
    "crs = rasterio.crs.CRS.from_proj4(proj=\"+proj=utm +zone=31 +datum=WGS84 +units=m +no_defs \")\n",
    "print(crs)"
   ]
  },
  {
   "cell_type": "markdown",
   "id": "724fec31",
   "metadata": {},
   "source": [
    "Check the bounds of the dataset in the CRS coordinates."
   ]
  },
  {
   "cell_type": "code",
   "execution_count": null,
   "id": "5834a676",
   "metadata": {},
   "outputs": [],
   "source": [
    "tif_dataset.bounds"
   ]
  },
  {
   "cell_type": "code",
   "execution_count": null,
   "id": "12e60f3a",
   "metadata": {},
   "outputs": [],
   "source": [
    "print(tif_dataset.bounds)"
   ]
  },
  {
   "cell_type": "markdown",
   "id": "dc399385",
   "metadata": {},
   "source": [
    "Checkout the affine transformation parameters. See https://github.com/rasterio/affine for more details..."
   ]
  },
  {
   "cell_type": "code",
   "execution_count": null,
   "id": "f958a5ff",
   "metadata": {},
   "outputs": [],
   "source": [
    "tif_dataset.transform"
   ]
  },
  {
   "cell_type": "code",
   "execution_count": null,
   "id": "3cfae593",
   "metadata": {
    "scrolled": true
   },
   "outputs": [],
   "source": [
    "# Read the dataset's valid data mask as a ndarray.\n",
    "mask = tif_dataset.dataset_mask()\n",
    "print(mask)"
   ]
  },
  {
   "cell_type": "code",
   "execution_count": null,
   "id": "938e64d7",
   "metadata": {},
   "outputs": [],
   "source": [
    "import rasterio.features\n",
    "import rasterio.warp\n",
    "# Example from rasterio docs: https://rasterio.readthedocs.io/en/latest/index.html\n",
    "# Extract feature shapes and values from the array.\n",
    "for geom, val in rasterio.features.shapes(mask, transform=tif_dataset.transform):\n",
    "    # Transform shapes from the dataset's own coordinate\n",
    "    # reference system to CRS84 (EPSG:4326).\n",
    "    geom = rasterio.warp.transform_geom(tif_dataset.crs, 'EPSG:4326', geom, precision=6)\n",
    "    print(geom)"
   ]
  },
  {
   "cell_type": "markdown",
   "id": "a2450fe4",
   "metadata": {},
   "source": [
    "Ok, now, let's explore some of the base info we have about our dataset based on what we can access (see info on the base class here: https://rasterio.readthedocs.io/en/latest/api/rasterio._base.html )"
   ]
  },
  {
   "cell_type": "code",
   "execution_count": null,
   "id": "463d5936",
   "metadata": {},
   "outputs": [],
   "source": [
    "tif_dataset.res"
   ]
  },
  {
   "cell_type": "code",
   "execution_count": null,
   "id": "5ebc3739",
   "metadata": {},
   "outputs": [],
   "source": [
    "tif_dataset.width"
   ]
  },
  {
   "cell_type": "code",
   "execution_count": null,
   "id": "e5b86f38",
   "metadata": {},
   "outputs": [],
   "source": [
    "tif_dataset.height"
   ]
  },
  {
   "cell_type": "code",
   "execution_count": null,
   "id": "99710fac",
   "metadata": {},
   "outputs": [],
   "source": [
    "tif_dataset.driver"
   ]
  },
  {
   "cell_type": "code",
   "execution_count": null,
   "id": "73488c9f",
   "metadata": {},
   "outputs": [],
   "source": [
    "tif_dataset.interleaving"
   ]
  },
  {
   "cell_type": "code",
   "execution_count": null,
   "id": "6cee00e2",
   "metadata": {},
   "outputs": [],
   "source": [
    "tif_dataset.mode"
   ]
  },
  {
   "cell_type": "code",
   "execution_count": null,
   "id": "c7e5a261",
   "metadata": {},
   "outputs": [],
   "source": [
    "tif_dataset.count"
   ]
  },
  {
   "cell_type": "code",
   "execution_count": null,
   "id": "53788cbc",
   "metadata": {},
   "outputs": [],
   "source": [
    "tif_dataset.descriptions"
   ]
  },
  {
   "cell_type": "code",
   "execution_count": null,
   "id": "fe129bd9",
   "metadata": {},
   "outputs": [],
   "source": [
    "tif_dataset.meta"
   ]
  },
  {
   "cell_type": "markdown",
   "id": "e4f22d0b",
   "metadata": {},
   "source": [
    "Now let's look closer at the bands that are available. First, let's see what the file contains:"
   ]
  },
  {
   "cell_type": "code",
   "execution_count": null,
   "id": "814f6a18",
   "metadata": {},
   "outputs": [],
   "source": [
    "tif_dataset.indexes"
   ]
  },
  {
   "cell_type": "code",
   "execution_count": null,
   "id": "bf4e10c9",
   "metadata": {},
   "outputs": [],
   "source": [
    "img = tif_dataset.read(1)"
   ]
  },
  {
   "cell_type": "code",
   "execution_count": null,
   "id": "67b97e48",
   "metadata": {},
   "outputs": [],
   "source": [
    "img"
   ]
  },
  {
   "cell_type": "code",
   "execution_count": null,
   "id": "3587d06e",
   "metadata": {},
   "outputs": [],
   "source": [
    "type(img)"
   ]
  },
  {
   "cell_type": "markdown",
   "id": "f90a1cc5",
   "metadata": {},
   "source": [
    "So, we have a numpy ndarray. What is that? See here: https://numpy.org/doc/stable/reference/generated/numpy.ndarray.html\n",
    "\n",
    "If we look at the documentation, we can try to access a few things..."
   ]
  },
  {
   "cell_type": "code",
   "execution_count": null,
   "id": "2243baf1",
   "metadata": {},
   "outputs": [],
   "source": [
    "img.shape"
   ]
  },
  {
   "cell_type": "code",
   "execution_count": null,
   "id": "8dff88a7",
   "metadata": {},
   "outputs": [],
   "source": [
    "img.dtype"
   ]
  },
  {
   "cell_type": "code",
   "execution_count": null,
   "id": "0f9f63ce",
   "metadata": {},
   "outputs": [],
   "source": [
    "img.mean"
   ]
  },
  {
   "cell_type": "code",
   "execution_count": null,
   "id": "89b6e254",
   "metadata": {},
   "outputs": [],
   "source": [
    "print(img.mean)"
   ]
  },
  {
   "cell_type": "code",
   "execution_count": null,
   "id": "d20a9c77",
   "metadata": {},
   "outputs": [],
   "source": [
    "img.mean()"
   ]
  },
  {
   "cell_type": "code",
   "execution_count": null,
   "id": "a457886d",
   "metadata": {},
   "outputs": [],
   "source": [
    "print(img.max())"
   ]
  },
  {
   "cell_type": "code",
   "execution_count": null,
   "id": "7f2370c2",
   "metadata": {},
   "outputs": [],
   "source": [
    "print(img.min())"
   ]
  },
  {
   "cell_type": "code",
   "execution_count": null,
   "id": "32e3a5de",
   "metadata": {},
   "outputs": [],
   "source": [
    "print(img.std())"
   ]
  },
  {
   "cell_type": "markdown",
   "id": "5f2c299b",
   "metadata": {},
   "source": [
    "Let's import numpy... Remember, you can also import using an alias."
   ]
  },
  {
   "cell_type": "code",
   "execution_count": null,
   "id": "1cc9e00b",
   "metadata": {},
   "outputs": [],
   "source": [
    "# No alias\n",
    "import numpy\n",
    "print(numpy.__version__)\n",
    "\n",
    "# Alias or rename to \"np\" -- a very common practice\n",
    "import numpy as np\n",
    "print(np.__version__)\n"
   ]
  },
  {
   "cell_type": "markdown",
   "id": "d745b349",
   "metadata": {},
   "source": [
    "And let's also use rasterio's plotting functionality. See here for more info and examples: https://rasterio.readthedocs.io/en/latest/topics/plotting.html?highlight=plotting"
   ]
  },
  {
   "cell_type": "code",
   "execution_count": null,
   "id": "8d8b925c",
   "metadata": {},
   "outputs": [],
   "source": [
    "from rasterio.plot import show, adjust_band\n",
    "# this bit of jupyter magic allows matplotlib to plot inline in a jupyter notebook\n",
    "# See here: https://ipython.readthedocs.io/en/stable/interactive/plotting.html\n",
    "%matplotlib inline  \n",
    "\n",
    "imgdata = np.array([adjust_band(tif_dataset.read(i)) for i in (3,2,1)])\n",
    "show(imgdata*3)  # factor 3 to increase brightness"
   ]
  },
  {
   "cell_type": "code",
   "execution_count": null,
   "id": "547e5307",
   "metadata": {},
   "outputs": [],
   "source": [
    "from rasterio import plot\n",
    "import matplotlib.pyplot as plt\n",
    "#multiple band representation\n",
    "fig, (ax1, ax2, ax3) = plt.subplots(1, 3, figsize=(12, 4))\n",
    "plot.show(np.array(adjust_band(tif_dataset.read(3))), ax=ax1, cmap='Blues')\n",
    "plot.show(np.array(adjust_band(tif_dataset.read(2))), ax=ax2, cmap='Greens')\n",
    "plot.show(np.array(adjust_band(tif_dataset.read(1))), ax=ax3, cmap='Reds')\n",
    "fig.tight_layout()"
   ]
  },
  {
   "cell_type": "code",
   "execution_count": null,
   "id": "4420efc1",
   "metadata": {},
   "outputs": [],
   "source": [
    "#generate histogram\n",
    "plot.show_hist(tif_dataset, bins=50, lw=0.0, stacked=False, alpha=0.3, histtype='stepfilled', title=\"Histogram\")"
   ]
  },
  {
   "cell_type": "markdown",
   "id": "595ebfae",
   "metadata": {},
   "source": [
    "... for those of you who are faster, you can continue working through this tutorial, which goes on to include transforming the CRS, cropping the image, resampling the image, and reprojecting the image: https://medium.com/@mommermiscience/dealing-with-geospatial-raster-data-in-python-with-rasterio-775e5ba0c9f5"
   ]
  },
  {
   "cell_type": "code",
   "execution_count": null,
   "id": "c3915c45",
   "metadata": {},
   "outputs": [],
   "source": [
    "import sentinelhub\n",
    "#\n",
    "# For those who have an AWS account, you can try to navigate this and download a tile:\n",
    "# From https://sentinelhub-py.readthedocs.io/en/latest/examples/aws_request.html#Data-into-.SAFE-structure\n",
    "#"
   ]
  },
  {
   "cell_type": "code",
   "execution_count": null,
   "id": "76350e4c",
   "metadata": {},
   "outputs": [],
   "source": []
  }
 ],
 "metadata": {
  "kernelspec": {
   "display_name": "Python 3 (ipykernel)",
   "language": "python",
   "name": "python3"
  },
  "language_info": {
   "codemirror_mode": {
    "name": "ipython",
    "version": 3
   },
   "file_extension": ".py",
   "mimetype": "text/x-python",
   "name": "python",
   "nbconvert_exporter": "python",
   "pygments_lexer": "ipython3",
   "version": "3.10.4"
  }
 },
 "nbformat": 4,
 "nbformat_minor": 5
}
